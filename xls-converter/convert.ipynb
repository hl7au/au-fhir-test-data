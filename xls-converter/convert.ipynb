{
 "cells": [
  {
   "cell_type": "code",
   "execution_count": 1,
   "id": "014f1bb0-daa7-425b-b3f8-2f2b18b53c2e",
   "metadata": {},
   "outputs": [],
   "source": [
    "import pandas as pd"
   ]
  },
  {
   "cell_type": "code",
   "execution_count": 3,
   "id": "b4772af2-621c-49af-a154-49abc0c3250e",
   "metadata": {},
   "outputs": [],
   "source": [
    "file = \"https://assets.beda.software/AU%20Core%20Test%20Data_copy.xlsx\"\n",
    "xlsx = pd.ExcelFile(file)"
   ]
  },
  {
   "cell_type": "code",
   "execution_count": 78,
   "id": "399bde34-6433-48a3-acda-3f46fb8e988e",
   "metadata": {},
   "outputs": [
    {
     "name": "stdout",
     "output_type": "stream",
     "text": [
      "['', 'wang-li', '4', 'Neither Aboriginal nor Torres Strait Islander origin', 'China', 'CHN', '2015', 'true', '', '', '', 'MC', '', '', 'Medicare Number', 'http://ns.electronichealth.net.au/id/medicare-number', '29533070322', '', '', 'IHI', 'http://ns.electronichealth.net.au/id/hi/ihi/1.0', '8003608333647295', '', '', '', '', '', '', '', '', '', '', '', '', '', 'Wang', 'Li', '', 'Mr', '', '', '', '', '', '', '', '', '', '', '', '', '', '', '', '', '', '', 'male', '1975-05-03', '', 'AAA', '\"Day', ' month and year are accurate\"', 'home', '29 Gadsby Street', '', 'Blacktown', 'NSW', '2148', 'AU', '', '', '', '', '', '', '', 'yue', 'urn:ietf:bcp:47', 'Cantonese', 'true', '', '', '', '', '', '', '', '', '', '']\n",
      "['', 'hayes-maria', '4', 'Neither Aboriginal nor Torres Strait Islander origin', '', '', '', '', 'active', 'verified', '', 'NI', '', '', 'IHI', 'http://ns.electronichealth.net.au/id/hi/ihi/1.0', '8003608833648397', '', '', 'MC', '', '', 'Medicare Number', 'http://ns.electronichealth.net.au/id/medicare-number', '49516513011', '', '', '', '', '', '', '', '', 'official', '', 'HAYES', 'Maria', '', 'Ms.', '', '', '', '', '', '', 'phone', 'home', '0770101471', 'phone', 'mobile', '0491570157', 'phone', 'work', '0770104085', '', '', '', 'female', '1959-07-12 00:00:00', '', '', '', '', '198 Stone Pl', '', 'Morgan Park', 'QLD', '4370', 'AU', '', '', '', '', '', '', '', '', '', '', '', '', '', '', '', '', '', '', '', '', '']\n"
     ]
    },
    {
     "ename": "IndexError",
     "evalue": "list index out of range",
     "output_type": "error",
     "traceback": [
      "\u001b[0;31m---------------------------------------------------------------------------\u001b[0m",
      "\u001b[0;31mIndexError\u001b[0m                                Traceback (most recent call last)",
      "Cell \u001b[0;32mIn[78], line 5\u001b[0m\n\u001b[1;32m      3\u001b[0m parts \u001b[38;5;241m=\u001b[39m l\u001b[38;5;241m.\u001b[39msplit(\u001b[38;5;124m'\u001b[39m\u001b[38;5;124m,\u001b[39m\u001b[38;5;124m'\u001b[39m)\n\u001b[1;32m      4\u001b[0m \u001b[38;5;28;01mif\u001b[39;00m(\u001b[38;5;28mlen\u001b[39m(parts) \u001b[38;5;241m>\u001b[39m \u001b[38;5;241m0\u001b[39m):\n\u001b[0;32m----> 5\u001b[0m     \u001b[38;5;28;01mif\u001b[39;00m \u001b[43mparts\u001b[49m\u001b[43m[\u001b[49m\u001b[38;5;241;43m1\u001b[39;49m\u001b[43m]\u001b[49m \u001b[38;5;129;01min\u001b[39;00m [\u001b[38;5;124m'\u001b[39m\u001b[38;5;124mhayes-maria\u001b[39m\u001b[38;5;124m'\u001b[39m,\u001b[38;5;124m'\u001b[39m\u001b[38;5;124mwang-li\u001b[39m\u001b[38;5;124m'\u001b[39m]:\n\u001b[1;32m      6\u001b[0m         \u001b[38;5;28mprint\u001b[39m(parts)\n",
      "\u001b[0;31mIndexError\u001b[0m: list index out of range"
     ]
    }
   ],
   "source": [
    "df = xlsx.parse(\"Patient\", dtype=str)\n",
    "for l in df.to_csv(index = None , header=True).split('\\n'):\n",
    "    parts = l.split(',')\n",
    "    if(len(parts) > 0):\n",
    "        if parts[1] in ['hayes-maria','wang-li']:\n",
    "            print(parts)"
   ]
  },
  {
   "cell_type": "code",
   "execution_count": 90,
   "id": "e000b54a-4975-4fe7-a19b-17ea94e091b0",
   "metadata": {},
   "outputs": [
    {
     "data": {
      "text/plain": [
       "0     1968-10-11\n",
       "1     2022-09-14\n",
       "2     1939-08-25\n",
       "3     1989-05-07\n",
       "4            NaN\n",
       "         ...    \n",
       "77    1972-05-14\n",
       "78    1985-06-16\n",
       "79    2017-04-20\n",
       "80    2017-04-20\n",
       "81    2017-04-20\n",
       "Name: birthDate, Length: 82, dtype: object"
      ]
     },
     "execution_count": 90,
     "metadata": {},
     "output_type": "execute_result"
    }
   ],
   "source": [
    "def remove_time(data):\n",
    "    if not isinstance(data,str):\n",
    "        return data\n",
    "    parts = data.split(' ')\n",
    "    return parts[0]\n",
    "\n",
    "df['birthDate'].apply(remove_time)"
   ]
  },
  {
   "cell_type": "code",
   "execution_count": 67,
   "id": "efc25fec-7124-436a-9441-3126171d6695",
   "metadata": {},
   "outputs": [
    {
     "data": {
      "text/plain": [
       "id                                           object\n",
       "old_id                                       object\n",
       "indigenousStatus_code                        object\n",
       "indigenousStatus_display                     object\n",
       "birthPlace_text                              object\n",
       "                                              ...  \n",
       "individual_pronouns_value_text               object\n",
       "individual_recordedSexOrGender_type_code     object\n",
       "individual_recordedSexOrGender_type_text     object\n",
       "individual_recordedSexOrGender_value_code    object\n",
       "individual_recordedSexOrGender_value_text    object\n",
       "Length: 90, dtype: object"
      ]
     },
     "execution_count": 67,
     "metadata": {},
     "output_type": "execute_result"
    }
   ],
   "source": [
    "df.dtypes"
   ]
  }
 ],
 "metadata": {
  "kernelspec": {
   "display_name": "Python 3 (ipykernel)",
   "language": "python",
   "name": "python3"
  },
  "language_info": {
   "codemirror_mode": {
    "name": "ipython",
    "version": 3
   },
   "file_extension": ".py",
   "mimetype": "text/x-python",
   "name": "python",
   "nbconvert_exporter": "python",
   "pygments_lexer": "ipython3",
   "version": "3.13.0"
  }
 },
 "nbformat": 4,
 "nbformat_minor": 5
}
